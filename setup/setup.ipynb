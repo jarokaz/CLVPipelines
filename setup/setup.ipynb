{
 "cells": [
  {
   "cell_type": "markdown",
   "metadata": {},
   "source": [
    "## Install KFP SDK\n",
    "The tutorial was developed and tested with KFP SDK version 0.1.20"
   ]
  },
  {
   "cell_type": "code",
   "execution_count": 1,
   "metadata": {},
   "outputs": [],
   "source": [
    "SDK_VERSION = '0.1.20'"
   ]
  },
  {
   "cell_type": "markdown",
   "metadata": {},
   "source": [
    "You can check the current version of SDK."
   ]
  },
  {
   "cell_type": "code",
   "execution_count": 2,
   "metadata": {},
   "outputs": [
    {
     "name": "stdout",
     "output_type": "stream",
     "text": [
      "['0.1.20']\n"
     ]
    }
   ],
   "source": [
    "latest_version = !(curl --silent https://api.github.com/repos/kubeflow/pipelines/releases/latest | jq -r .tag_name)\n",
    "print(latest_version)"
   ]
  },
  {
   "cell_type": "markdown",
   "metadata": {},
   "source": [
    "Install KFP SDK into the current Jupyter kernel."
   ]
  },
  {
   "cell_type": "code",
   "execution_count": 3,
   "metadata": {},
   "outputs": [
    {
     "name": "stdout",
     "output_type": "stream",
     "text": [
      "Collecting https://storage.googleapis.com/ml-pipeline/release/0.1.20/kfp.tar.gz\n",
      "  Downloading https://storage.googleapis.com/ml-pipeline/release/0.1.20/kfp.tar.gz (67kB)\n",
      "\u001b[K    100% |████████████████████████████████| 71kB 9.9MB/s \n",
      "\u001b[?25hCollecting urllib3<1.25,>=1.15 (from kfp==0.1.20)\n",
      "  Downloading https://files.pythonhosted.org/packages/01/11/525b02e4acc0c747de8b6ccdab376331597c569c42ea66ab0a1dbd36eca2/urllib3-1.24.3-py2.py3-none-any.whl (118kB)\n",
      "\u001b[K    100% |████████████████████████████████| 122kB 4.2MB/s \n",
      "\u001b[?25hRequirement already up-to-date: six>=1.10 in /usr/local/lib/python3.5/dist-packages (from kfp==0.1.20)\n",
      "Requirement already up-to-date: certifi in /usr/local/lib/python3.5/dist-packages (from kfp==0.1.20)\n",
      "Requirement already up-to-date: python-dateutil in /usr/local/lib/python3.5/dist-packages (from kfp==0.1.20)\n",
      "Requirement already up-to-date: PyYAML in /usr/local/lib/python3.5/dist-packages (from kfp==0.1.20)\n",
      "Collecting google-cloud-storage>=1.13.0 (from kfp==0.1.20)\n",
      "  Downloading https://files.pythonhosted.org/packages/34/7c/e2f563c1af1d9042b1a4e03dfcdd73fc31a5236fd108440b4981b4eaea8d/google_cloud_storage-1.16.0-py2.py3-none-any.whl (65kB)\n",
      "\u001b[K    100% |████████████████████████████████| 71kB 10.3MB/s \n",
      "\u001b[?25hRequirement already up-to-date: kubernetes<=9.0.0,>=8.0.0 in /usr/local/lib/python3.5/dist-packages (from kfp==0.1.20)\n",
      "Collecting PyJWT>=1.6.4 (from kfp==0.1.20)\n",
      "  Downloading https://files.pythonhosted.org/packages/87/8b/6a9f14b5f781697e51259d81657e6048fd31a113229cf346880bb7545565/PyJWT-1.7.1-py2.py3-none-any.whl\n",
      "Collecting cryptography>=2.4.2 (from kfp==0.1.20)\n",
      "  Downloading https://files.pythonhosted.org/packages/5b/12/b0409a94dad366d98a8eee2a77678c7a73aafd8c0e4b835abea634ea3896/cryptography-2.6.1-cp34-abi3-manylinux1_x86_64.whl (2.3MB)\n",
      "\u001b[K    100% |████████████████████████████████| 2.3MB 589kB/s \n",
      "\u001b[?25hRequirement already up-to-date: google-auth>=1.6.1 in /usr/local/lib/python3.5/dist-packages (from kfp==0.1.20)\n",
      "Collecting requests_toolbelt>=0.8.0 (from kfp==0.1.20)\n",
      "  Downloading https://files.pythonhosted.org/packages/60/ef/7681134338fc097acef8d9b2f8abe0458e4d87559c689a8c306d0957ece5/requests_toolbelt-0.9.1-py2.py3-none-any.whl (54kB)\n",
      "\u001b[K    100% |████████████████████████████████| 61kB 11.0MB/s \n",
      "\u001b[?25hCollecting kfp-server-api<0.1.19,>=0.1.18 (from kfp==0.1.20)\n",
      "  Downloading https://files.pythonhosted.org/packages/85/76/8d966b2bbd753aee0ae913973aa89b0eeda3cc574f7a4cbb0fdfcbbd43fb/kfp-server-api-0.1.18.2.tar.gz\n",
      "Collecting google-api-core<2.0.0dev,>=1.6.0 (from google-cloud-storage>=1.13.0->kfp==0.1.20)\n",
      "  Downloading https://files.pythonhosted.org/packages/32/df/1af46c943d13332e0f113b8d1478d9d466a39db5a2c9edf1e533b720421a/google_api_core-1.11.0-py2.py3-none-any.whl (66kB)\n",
      "\u001b[K    100% |████████████████████████████████| 71kB 11.0MB/s \n",
      "\u001b[?25hCollecting google-cloud-core<2.0dev,>=1.0.0 (from google-cloud-storage>=1.13.0->kfp==0.1.20)\n",
      "  Downloading https://files.pythonhosted.org/packages/34/ba/251d9b6a1695d25d9f081a3db537b0dfb15edaf2037b423e4a98280df7f9/google_cloud_core-1.0.0-py2.py3-none-any.whl\n",
      "Requirement already up-to-date: google-resumable-media>=0.3.1 in /usr/local/lib/python3.5/dist-packages (from google-cloud-storage>=1.13.0->kfp==0.1.20)\n",
      "Requirement already up-to-date: requests-oauthlib in /usr/local/lib/python3.5/dist-packages (from kubernetes<=9.0.0,>=8.0.0->kfp==0.1.20)\n",
      "Collecting requests (from kubernetes<=9.0.0,>=8.0.0->kfp==0.1.20)\n",
      "  Downloading https://files.pythonhosted.org/packages/51/bd/23c926cd341ea6b7dd0b2a00aba99ae0f828be89d72b2190f27c11d4b7fb/requests-2.22.0-py2.py3-none-any.whl (57kB)\n",
      "\u001b[K    100% |████████████████████████████████| 61kB 10.8MB/s \n",
      "\u001b[?25hRequirement already up-to-date: websocket-client!=0.40.0,!=0.41.*,!=0.42.*,>=0.32.0 in /usr/local/lib/python3.5/dist-packages (from kubernetes<=9.0.0,>=8.0.0->kfp==0.1.20)\n",
      "Requirement already up-to-date: setuptools>=21.0.0 in /usr/local/lib/python3.5/dist-packages (from kubernetes<=9.0.0,>=8.0.0->kfp==0.1.20)\n",
      "Collecting cffi!=1.11.3,>=1.8 (from cryptography>=2.4.2->kfp==0.1.20)\n",
      "  Downloading https://files.pythonhosted.org/packages/62/76/135eeffe0089e6724bdd65c1bf9f1654db9b47783e65b8d9f1454c540d8b/cffi-1.12.3-cp35-cp35m-manylinux1_x86_64.whl (429kB)\n",
      "\u001b[K    100% |████████████████████████████████| 430kB 3.1MB/s \n",
      "\u001b[?25hCollecting asn1crypto>=0.21.0 (from cryptography>=2.4.2->kfp==0.1.20)\n",
      "  Downloading https://files.pythonhosted.org/packages/ea/cd/35485615f45f30a510576f1a56d1e0a7ad7bd8ab5ed7cdc600ef7cd06222/asn1crypto-0.24.0-py2.py3-none-any.whl (101kB)\n",
      "\u001b[K    100% |████████████████████████████████| 102kB 10.1MB/s \n",
      "\u001b[?25hRequirement already up-to-date: pyasn1-modules>=0.2.1 in /usr/local/lib/python3.5/dist-packages (from google-auth>=1.6.1->kfp==0.1.20)\n",
      "Requirement already up-to-date: cachetools>=2.0.0 in /usr/local/lib/python3.5/dist-packages (from google-auth>=1.6.1->kfp==0.1.20)\n",
      "Requirement already up-to-date: rsa>=3.1.4 in /usr/local/lib/python3.5/dist-packages (from google-auth>=1.6.1->kfp==0.1.20)\n",
      "Requirement already up-to-date: protobuf>=3.4.0 in /usr/local/lib/python3.5/dist-packages (from google-api-core<2.0.0dev,>=1.6.0->google-cloud-storage>=1.13.0->kfp==0.1.20)\n",
      "Requirement already up-to-date: pytz in /usr/local/lib/python3.5/dist-packages (from google-api-core<2.0.0dev,>=1.6.0->google-cloud-storage>=1.13.0->kfp==0.1.20)\n",
      "Requirement already up-to-date: googleapis-common-protos!=1.5.4,<2.0dev,>=1.5.3 in /usr/local/lib/python3.5/dist-packages (from google-api-core<2.0.0dev,>=1.6.0->google-cloud-storage>=1.13.0->kfp==0.1.20)\n",
      "Requirement already up-to-date: oauthlib>=3.0.0 in /usr/local/lib/python3.5/dist-packages (from requests-oauthlib->kubernetes<=9.0.0,>=8.0.0->kfp==0.1.20)\n",
      "Requirement already up-to-date: idna<2.9,>=2.5 in /usr/local/lib/python3.5/dist-packages (from requests->kubernetes<=9.0.0,>=8.0.0->kfp==0.1.20)\n",
      "Requirement already up-to-date: chardet<3.1.0,>=3.0.2 in /usr/local/lib/python3.5/dist-packages (from requests->kubernetes<=9.0.0,>=8.0.0->kfp==0.1.20)\n",
      "Collecting pycparser (from cffi!=1.11.3,>=1.8->cryptography>=2.4.2->kfp==0.1.20)\n",
      "  Downloading https://files.pythonhosted.org/packages/68/9e/49196946aee219aead1290e00d1e7fdeab8567783e83e1b9ab5585e6206a/pycparser-2.19.tar.gz (158kB)\n",
      "\u001b[K    100% |████████████████████████████████| 163kB 7.9MB/s \n",
      "\u001b[?25hRequirement already up-to-date: pyasn1<0.5.0,>=0.4.1 in /usr/local/lib/python3.5/dist-packages (from pyasn1-modules>=0.2.1->google-auth>=1.6.1->kfp==0.1.20)\n",
      "Building wheels for collected packages: kfp-server-api, pycparser\n",
      "  Running setup.py bdist_wheel for kfp-server-api ... \u001b[?25ldone\n",
      "\u001b[?25h  Stored in directory: /home/jupyter/.cache/pip/wheels/8f/ed/14/ac11fdf68438c1e501cbb05ca138f13a9319c0f5ba373ea00b\n",
      "  Running setup.py bdist_wheel for pycparser ... \u001b[?25ldone\n",
      "\u001b[?25h  Stored in directory: /home/jupyter/.cache/pip/wheels/f2/9a/90/de94f8556265ddc9d9c8b271b0f63e57b26fb1d67a45564511\n",
      "Successfully built kfp-server-api pycparser\n",
      "Installing collected packages: urllib3, requests, google-api-core, google-cloud-core, google-cloud-storage, PyJWT, pycparser, cffi, asn1crypto, cryptography, requests-toolbelt, kfp-server-api, kfp\n",
      "  Running setup.py install for kfp ... \u001b[?25ldone\n",
      "\u001b[?25hSuccessfully installed PyJWT-1.7.1 asn1crypto-0.24.0 cffi-1.12.3 cryptography-2.6.1 google-api-core-1.11.0 google-cloud-core-1.0.0 google-cloud-storage-1.16.0 kfp-0.1.20 kfp-server-api-0.1.18.2 pycparser-2.19 requests-2.22.0 requests-toolbelt-0.9.1 urllib3-1.24.3\n"
     ]
    }
   ],
   "source": [
    "import sys\n",
    "\n",
    "sdk_uri = 'https://storage.googleapis.com/ml-pipeline/release/{}/kfp.tar.gz'.format(SDK_VERSION)\n",
    "!{sys.executable} -m pip install $sdk_uri --upgrade"
   ]
  },
  {
   "cell_type": "code",
   "execution_count": null,
   "metadata": {},
   "outputs": [],
   "source": []
  },
  {
   "cell_type": "code",
   "execution_count": null,
   "metadata": {},
   "outputs": [],
   "source": []
  }
 ],
 "metadata": {
  "kernelspec": {
   "display_name": "Python 3",
   "language": "python",
   "name": "python3"
  },
  "language_info": {
   "codemirror_mode": {
    "name": "ipython",
    "version": 3
   },
   "file_extension": ".py",
   "mimetype": "text/x-python",
   "name": "python",
   "nbconvert_exporter": "python",
   "pygments_lexer": "ipython3",
   "version": "3.5.3"
  }
 },
 "nbformat": 4,
 "nbformat_minor": 2
}
