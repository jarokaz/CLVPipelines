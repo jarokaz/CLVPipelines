{
 "cells": [
  {
   "cell_type": "markdown",
   "metadata": {},
   "source": [
    "# Name\n",
    "\n",
    "Gather training data by querying BigQuery \n",
    "\n",
    "\n",
    "# Labels\n",
    "\n",
    "GCP, BigQuery, Kubeflow, Pipeline\n",
    "\n",
    "\n",
    "# Summary\n",
    "\n",
    "A Kubeflow Pipeline component to submit a query to BigQuery and store the result in a Cloud Storage bucket.\n",
    "\n",
    "\n",
    "# Details\n",
    "\n",
    "\n",
    "## Intended use\n",
    "\n",
    "Use this Kubeflow component to:\n",
    "*   Select training data by submitting a query to BigQuery.\n",
    "*   Output the training data into a Cloud Storage bucket as CSV files.\n",
    "\n",
    "\n",
    "## Runtime arguments:\n",
    "\n",
    "\n",
    "| Argument | Description | Optional | Data type | Accepted values | Default |\n",
    "|----------|-------------|----------|-----------|-----------------|---------|\n",
    "| query | The query used by BigQuery to fetch the results. | No | String |  |  |\n",
    "| project_id | The project ID of the Google Cloud Platform (GCP) project to use to execute the query. | No | GCPProjectID |  |  |\n",
    "| dataset_id | The ID of the persistent BigQuery dataset to store the results of the query. If the dataset does not exist, the operation will create a new one. | Yes | String |  | None |\n",
    "| table_id | The ID of the BigQuery table to store the results of the query. If the table ID is absent, the operation will generate a random ID for the table. | Yes | String |  | None |\n",
    "| output_gcs_path | The path to the Cloud Storage bucket to store the query output. | Yes | GCSPath |  | None |\n",
    "| dataset_location | The location where the dataset is created. Defaults to US. | Yes | String |  | US |\n",
    "| job_config | The full configuration specification for the query job. See [QueryJobConfig](https://googleapis.github.io/google-cloud-python/latest/bigquery/generated/google.cloud.bigquery.job.QueryJobConfig.html#google.cloud.bigquery.job.QueryJobConfig) for details. | Yes | Dict | A JSONobject which has the same structure as [QueryJobConfig](https://googleapis.github.io/google-cloud-python/latest/bigquery/generated/google.cloud.bigquery.job.QueryJobConfig.html#google.cloud.bigquery.job.QueryJobConfig) | None |\n",
    "## Input data schema\n",
    "\n",
    "The input data is a BigQuery job containing a query that pulls data f rom various sources. \n",
    "\n",
    "\n",
    "## Output:\n",
    "\n",
    "Name | Description | Type\n",
    ":--- | :---------- | :---\n",
    "output_gcs_path | The path to the Cloud Storage bucket containing the query output in CSV format. | GCSPath\n",
    "\n",
    "## Cautions & requirements\n",
    "\n",
    "To use the component, the following requirements must be met:\n",
    "\n",
    "*   The BigQuery API is enabled.\n",
    "*   The component is running under a secret [Kubeflow user service account](https://www.kubeflow.org/docs/started/getting-started-gke/#gcp-service-accounts) in a Kubeflow Pipeline cluster.  For example:\n",
    "\n",
    "    ```\n",
    "    bigquery_query_op(...).apply(gcp.use_gcp_secret('user-gcp-sa'))\n",
    "    ```\n",
    "*   The Kubeflow user service account is a member of the `roles/bigquery.admin` role of the project.\n",
    "*   The Kubeflow user service account is a member of the `roles/storage.objectCreator `role of the Cloud Storage output bucket.\n",
    "\n",
    "## Detailed description\n",
    "This Kubeflow Pipeline component is used to:\n",
    "*   Submit a query to BigQuery.\n",
    "    *   The query results are persisted in a dataset table in BigQuery.\n",
    "    *   An extract job is created in BigQuery to extract the data from the dataset table and output it to a Cloud Storage bucket as CSV files.\n",
    "\n",
    "    Use the code below as an example of how to run your BigQuery job.\n",
    "\n",
    "### Sample\n",
    "\n",
    "Note: The following sample code works in an IPython notebook or directly in Python code.\n",
    "\n",
    "#### Set sample parameters"
   ]
  },
  {
   "cell_type": "code",
   "execution_count": null,
   "metadata": {},
   "outputs": [],
   "source": [
    "#%%capture --no-stderr\n",
    "\n",
    "#KFP_PACKAGE = 'https://storage.googleapis.com/ml-pipeline/release/0.1.14/kfp.tar.gz'\n",
    "#!pip3 install $KFP_PACKAGE --upgrade"
   ]
  },
  {
   "cell_type": "markdown",
   "metadata": {},
   "source": [
    "2. Load the component using KFP SDK"
   ]
  },
  {
   "cell_type": "code",
   "execution_count": 1,
   "metadata": {},
   "outputs": [
    {
     "name": "stdout",
     "output_type": "stream",
     "text": [
      "Help on function Bigquery - Query:\n",
      "\n",
      "Bigquery - Query(query:'String', project_id:'GCPProjectID', dataset_id:'String'='', table_id:'String'='', output_gcs_path:'GCSPath'='', dataset_location:'String'='US', job_config:'Dict'='')\n",
      "    Bigquery - Query\n",
      "    A Kubeflow Pipeline component to submit a query to Google Cloud Bigquery \n",
      "    service and dump outputs to a Google Cloud Storage blob.\n",
      "\n"
     ]
    }
   ],
   "source": [
    "import kfp.components as comp\n",
    "\n",
    "bigquery_query_op = comp.load_component_from_url(\n",
    "    'https://raw.githubusercontent.com/kubeflow/pipelines/e8524eefb138725fc06600d1956da0f4dd477178/components/gcp/bigquery/query/component.yaml')\n",
    "help(bigquery_query_op)"
   ]
  },
  {
   "cell_type": "markdown",
   "metadata": {},
   "source": [
    "### Sample\n",
    "\n",
    "Note: The following sample code works in IPython notebook or directly in Python code.\n",
    "\n",
    "In this sample, we send a query to get the top questions from stackdriver public data and output the data to a Cloud Storage bucket. Here is the query:"
   ]
  },
  {
   "cell_type": "code",
   "execution_count": 2,
   "metadata": {},
   "outputs": [],
   "source": [
    "QUERY = 'SELECT * FROM `bigquery-public-data.stackoverflow.posts_questions` LIMIT 10'"
   ]
  },
  {
   "cell_type": "markdown",
   "metadata": {},
   "source": [
    "#### Set sample parameters"
   ]
  },
  {
   "cell_type": "code",
   "execution_count": 3,
   "metadata": {
    "tags": [
     "parameters"
    ]
   },
   "outputs": [],
   "source": [
    "# Required Parameters\n",
    "PROJECT_ID = 'sandbox-235500'\n",
    "GCS_WORKING_DIR = 'gs://jksandbox/staging' # No ending slash"
   ]
  },
  {
   "cell_type": "code",
   "execution_count": 8,
   "metadata": {},
   "outputs": [],
   "source": [
    "# Optional Parameters\n",
    "EXPERIMENT_NAME = 'Bigquery -Query'\n",
    "OUTPUT_PATH = '{}/bigquery/query/questions.csv'.format(GCS_WORKING_DIR)\n",
    "OUTPUT_PATH = ''"
   ]
  },
  {
   "cell_type": "markdown",
   "metadata": {},
   "source": [
    "#### Run the component as a single pipeline"
   ]
  },
  {
   "cell_type": "code",
   "execution_count": 9,
   "metadata": {},
   "outputs": [],
   "source": [
    "import kfp.dsl as dsl\n",
    "import kfp.gcp as gcp\n",
    "import json\n",
    "@dsl.pipeline(\n",
    "    name='Bigquery query pipeline',\n",
    "    description='Bigquery query pipeline'\n",
    ")\n",
    "def pipeline(\n",
    "    query=QUERY, \n",
    "    project_id = PROJECT_ID, \n",
    "    dataset_id='', \n",
    "    table_id='', \n",
    "    output_gcs_path=OUTPUT_PATH, \n",
    "    dataset_location='US', \n",
    "    job_config=''\n",
    "):\n",
    "    bigquery_query_op(\n",
    "        query=query, \n",
    "        project_id=project_id, \n",
    "        dataset_id=dataset_id, \n",
    "        table_id=table_id, \n",
    "        output_gcs_path=output_gcs_path, \n",
    "        dataset_location=dataset_location, \n",
    "        job_config=job_config).apply(gcp.use_gcp_secret('user-gcp-sa'))"
   ]
  },
  {
   "cell_type": "markdown",
   "metadata": {},
   "source": [
    "#### Compile the pipeline"
   ]
  },
  {
   "cell_type": "code",
   "execution_count": 10,
   "metadata": {},
   "outputs": [],
   "source": [
    "pipeline_func = pipeline\n",
    "pipeline_filename = pipeline_func.__name__ + '.zip'\n",
    "import kfp.compiler as compiler\n",
    "compiler.Compiler().compile(pipeline_func, pipeline_filename)"
   ]
  },
  {
   "cell_type": "markdown",
   "metadata": {},
   "source": [
    "#### Submit the pipeline for execution"
   ]
  },
  {
   "cell_type": "code",
   "execution_count": 11,
   "metadata": {},
   "outputs": [
    {
     "data": {
      "text/html": [
       "Experiment link <a href=\"http://localhost:8082/api/v1/namespaces/kubeflow/services/ml-pipeline:8888/proxy/#/experiments/details/c17c539c-f542-4ca3-b3d7-90180affe82a\" target=\"_blank\" >here</a>"
      ],
      "text/plain": [
       "<IPython.core.display.HTML object>"
      ]
     },
     "metadata": {},
     "output_type": "display_data"
    },
    {
     "data": {
      "text/html": [
       "Run link <a href=\"http://localhost:8082/api/v1/namespaces/kubeflow/services/ml-pipeline:8888/proxy/#/runs/details/c5575bd4-6917-11e9-8b66-42010a800031\" target=\"_blank\" >here</a>"
      ],
      "text/plain": [
       "<IPython.core.display.HTML object>"
      ]
     },
     "metadata": {},
     "output_type": "display_data"
    }
   ],
   "source": [
    "#Specify pipeline argument values\n",
    "arguments = {}\n",
    "\n",
    "#Get or create an experiment and submit a pipeline run\n",
    "import kfp\n",
    "\n",
    "host = 'http://localhost:8082/api/v1/namespaces/kubeflow/services/ml-pipeline:8888/proxy'\n",
    "\n",
    "client = kfp.Client(host)\n",
    "experiment = client.create_experiment(EXPERIMENT_NAME)\n",
    "\n",
    "#Submit a pipeline run\n",
    "run_name = pipeline_func.__name__ + ' run'\n",
    "run_result = client.run_pipeline(experiment.id, run_name, pipeline_filename, arguments)"
   ]
  },
  {
   "cell_type": "markdown",
   "metadata": {},
   "source": [
    "#### Inspect the output"
   ]
  },
  {
   "cell_type": "code",
   "execution_count": null,
   "metadata": {},
   "outputs": [],
   "source": [
    "!gsutil cat OUTPUT_PATH"
   ]
  },
  {
   "cell_type": "code",
   "execution_count": null,
   "metadata": {},
   "outputs": [],
   "source": [
    "OUTPUT_PATH"
   ]
  },
  {
   "cell_type": "markdown",
   "metadata": {},
   "source": [
    "## References\n",
    "* [Component python code](https://github.com/kubeflow/pipelines/blob/master/component_sdk/python/kfp_component/google/bigquery/_query.py)\n",
    "* [Component docker file](https://github.com/kubeflow/pipelines/blob/master/components/gcp/container/Dockerfile)\n",
    "* [Sample notebook](https://github.com/kubeflow/pipelines/blob/master/components/gcp/bigquery/query/sample.ipynb)\n",
    "* [BigQuery query REST API](https://cloud.google.com/bigquery/docs/reference/rest/v2/jobs/query)\n",
    "\n",
    "## License\n",
    "By deploying or using this software you agree to comply with the [AI Hub Terms of Service](https://aihub.cloud.google.com/u/0/aihub-tos) and the [Google APIs Terms of Service](https://developers.google.com/terms/). To the extent of a direct conflict of terms, the AI Hub Terms of Service will control."
   ]
  }
 ],
 "metadata": {
  "kernelspec": {
   "display_name": "KFP",
   "language": "python",
   "name": "kfp"
  },
  "language_info": {
   "codemirror_mode": {
    "name": "ipython",
    "version": 3
   },
   "file_extension": ".py",
   "mimetype": "text/x-python",
   "name": "python",
   "nbconvert_exporter": "python",
   "pygments_lexer": "ipython3",
   "version": "3.5.3"
  }
 },
 "nbformat": 4,
 "nbformat_minor": 2
}
