{
 "cells": [
  {
   "cell_type": "markdown",
   "metadata": {},
   "source": [
    "# Orchestrate BigQuery and AutoML tables with Kubeflow pipelines"
   ]
  },
  {
   "cell_type": "code",
   "execution_count": 1,
   "metadata": {},
   "outputs": [],
   "source": [
    "import kfp\n",
    "import kfp.dsl as dsl\n",
    "import kfp.gcp as gcp\n",
    "import kfp.notebook"
   ]
  },
  {
   "cell_type": "markdown",
   "metadata": {},
   "source": [
    "## Create a base image to be used by lightweight components\n",
    "The image is created by Kaniko Kubernetes service. The image contains the libraries required to interface with BigQuery, Storage and AutoML tables services."
   ]
  },
  {
   "cell_type": "code",
   "execution_count": 38,
   "metadata": {},
   "outputs": [],
   "source": [
    "# Configure a staging directory for Kaniko\n",
    "STAGING_DIR = 'gs://jksandbox/pipelinestest/out'\n",
    "PROJECT_NAME = 'sandbox-235500'\n",
    "# Set the base image name\n",
    "EF_IMAGE='gcr.io/%s/automltablesbase:dev' % PROJECT_NAME"
   ]
  },
  {
   "cell_type": "markdown",
   "metadata": {},
   "source": [
    "Jupyter docker magic is used to start a Kaniko job. The magic uses a default Kubernetes config."
   ]
  },
  {
   "cell_type": "code",
   "execution_count": null,
   "metadata": {},
   "outputs": [],
   "source": [
    "%%docker {EF_IMAGE} {STAGING_DIR}\n",
    "FROM tensorflow/tensorflow:latest-py3\n",
    "RUN pip3 install --upgrade pandas\n",
    "RUN pip3 install --upgrade google-cloud-storage\n",
    "RUN pip3 install --upgrade google-cloud-automl"
   ]
  },
  {
   "cell_type": "markdown",
   "metadata": {},
   "source": [
    "### Create python lightweight components"
   ]
  },
  {
   "cell_type": "code",
   "execution_count": 45,
   "metadata": {},
   "outputs": [],
   "source": [
    "from typing import NamedTuple\n",
    "def automl_create_dataset(\n",
    "    project_id: str,\n",
    "    dataset_id: str,\n",
    "    table_id: str) -> NamedTuple('DatasetInfo', \n",
    "                               [('name', str), \n",
    "                                ('total_rows', int),\n",
    "                                ('total_columns', int)]):\n",
    "    \n",
    "    \n",
    "    print(\"Project ID:\", project_id)\n",
    "    print(\"Dataset ID:\", dataset_id)\n",
    "    print(\"Table ID:\", table_id)\n",
    "    \n",
    "    from collections import namedtuple\n",
    "    result = namedtuple('DatasetInfo', ['name', 'total_rows', 'total_colums'])\n",
    "    return result('test', 1000, 10)\n",
    "    "
   ]
  },
  {
   "cell_type": "code",
   "execution_count": 46,
   "metadata": {},
   "outputs": [],
   "source": [
    "QUERY = 'SELECT * FROM `bigquery-public-data.stackoverflow.posts_questions` LIMIT 10'\n",
    "PROJECT_ID = 'sandbox-235500'"
   ]
  },
  {
   "cell_type": "code",
   "execution_count": 47,
   "metadata": {},
   "outputs": [
    {
     "name": "stdout",
     "output_type": "stream",
     "text": [
      "Project ID: sandbox-235500\n",
      "Dataset ID: kfp_tmp\n",
      "Table ID: test\n",
      "DatasetInfo(name='test', total_rows=1000, total_colums=10)\n"
     ]
    }
   ],
   "source": [
    "result = automl_create_dataset(PROJECT_ID, dataset_id='kfp_tmp', table_id='test')\n",
    "print(result)"
   ]
  },
  {
   "cell_type": "code",
   "execution_count": 34,
   "metadata": {},
   "outputs": [],
   "source": [
    "AutomlCreateDatasetOp = kfp.components.func_to_container_op(automl_create_dataset)"
   ]
  },
  {
   "cell_type": "code",
   "execution_count": null,
   "metadata": {},
   "outputs": [],
   "source": []
  },
  {
   "cell_type": "markdown",
   "metadata": {},
   "source": [
    "## Create and run a pipeline"
   ]
  },
  {
   "cell_type": "markdown",
   "metadata": {},
   "source": [
    "### Define a pipeline"
   ]
  },
  {
   "cell_type": "code",
   "execution_count": 51,
   "metadata": {},
   "outputs": [],
   "source": [
    "@dsl.pipeline(\n",
    "    name='CLVPipeline',\n",
    "    description='CLV Pipeline'\n",
    ")\n",
    "def clv_pipeline(\n",
    "    query=QUERY, \n",
    "    project_id = PROJECT_ID, \n",
    "    dataset_id='', \n",
    "    table_id='', \n",
    "    dataset_location='US', \n",
    "    job_config=''\n",
    "):\n",
    "    \n",
    "    BqQueryOp = kfp.components.load_component_from_url(\n",
    "    'https://raw.githubusercontent.com/kubeflow/pipelines/e8524eefb138725fc06600d1956da0f4dd477178/components/gcp/bigquery/query/component.yaml')\n",
    "    \n",
    "    AutomlCreateDatasetOp = kfp.components.func_to_container_op(automl_create_dataset, base_image=EF_IMAGE)\n",
    "    \n",
    "    \n",
    "    query_op = BqQueryOp(\n",
    "        query=query, \n",
    "        project_id=project_id, \n",
    "        dataset_id=dataset_id, \n",
    "        table_id=table_id, \n",
    "        output_gcs_path='', \n",
    "        dataset_location=dataset_location, \n",
    "        job_config='').apply(gcp.use_gcp_secret('user-gcp-sa'))\n",
    "    \n",
    "    cd_op = AutomlCreateDatasetOp(\n",
    "        project_id=project_id,\n",
    "        dataset_id=dataset_id,\n",
    "        table_id=table_id).apply(gcp.use_gcp_secret('user-gcp-sa'))\n",
    "    \n",
    "    cd_op.after(query_op)\n",
    "    \n",
    "    "
   ]
  },
  {
   "cell_type": "markdown",
   "metadata": {},
   "source": [
    "### Compile a pipeline"
   ]
  },
  {
   "cell_type": "code",
   "execution_count": 52,
   "metadata": {},
   "outputs": [],
   "source": [
    "import kfp.compiler as compiler\n",
    "\n",
    "pipeline_func = clv_pipeline\n",
    "pipeline_filename = pipeline_func.__name__ + '.zip'\n",
    "\n",
    "compiler.Compiler().compile(pipeline_func, pipeline_filename)"
   ]
  },
  {
   "cell_type": "markdown",
   "metadata": {},
   "source": [
    "### Submit the pipeline for execution"
   ]
  },
  {
   "cell_type": "code",
   "execution_count": 53,
   "metadata": {},
   "outputs": [
    {
     "data": {
      "text/html": [
       "Experiment link <a href=\"http://localhost:8082/api/v1/namespaces/kubeflow/services/ml-pipeline:8888/proxy/#/experiments/details/6d0a5a1b-a373-4935-a544-b7ac09d5bd4a\" target=\"_blank\" >here</a>"
      ],
      "text/plain": [
       "<IPython.core.display.HTML object>"
      ]
     },
     "metadata": {},
     "output_type": "display_data"
    },
    {
     "data": {
      "text/html": [
       "Run link <a href=\"http://localhost:8082/api/v1/namespaces/kubeflow/services/ml-pipeline:8888/proxy/#/runs/details/4fadd2f0-6945-11e9-b783-42010a800156\" target=\"_blank\" >here</a>"
      ],
      "text/plain": [
       "<IPython.core.display.HTML object>"
      ]
     },
     "metadata": {},
     "output_type": "display_data"
    },
    {
     "name": "stdout",
     "output_type": "stream",
     "text": [
      "{'created_at': datetime.datetime(2019, 4, 27, 23, 36, 42, tzinfo=tzlocal()),\n",
      " 'description': None,\n",
      " 'error': None,\n",
      " 'finished_at': None,\n",
      " 'id': '4fadd2f0-6945-11e9-b783-42010a800156',\n",
      " 'metrics': None,\n",
      " 'name': 'clv_pipeline run',\n",
      " 'pipeline_spec': {'parameters': None,\n",
      "                   'pipeline_id': None,\n",
      "                   'pipeline_manifest': None,\n",
      "                   'workflow_manifest': '{\"apiVersion\": '\n",
      "                                        '\"argoproj.io/v1alpha1\", \"spec\": '\n",
      "                                        '{\"templates\": [{\"inputs\": '\n",
      "                                        '{\"parameters\": [{\"name\": '\n",
      "                                        '\"dataset-id\"}, {\"name\": '\n",
      "                                        '\"project-id\"}, {\"name\": '\n",
      "                                        '\"table-id\"}]}, \"container\": {\"args\": '\n",
      "                                        '[\"{{inputs.parameters.project-id}}\", '\n",
      "                                        '\"{{inputs.parameters.dataset-id}}\", '\n",
      "                                        '\"{{inputs.parameters.table-id}}\", '\n",
      "                                        '\"/outputs/name/data\", '\n",
      "                                        '\"/outputs/total_rows/data\", '\n",
      "                                        '\"/outputs/total_columns/data\"], '\n",
      "                                        '\"env\": [{\"value\": '\n",
      "                                        '\"/secret/gcp-credentials/user-gcp-sa.json\", '\n",
      "                                        '\"name\": '\n",
      "                                        '\"GOOGLE_APPLICATION_CREDENTIALS\"}, '\n",
      "                                        '{\"value\": '\n",
      "                                        '\"/secret/gcp-credentials/user-gcp-sa.json\", '\n",
      "                                        '\"name\": '\n",
      "                                        '\"CLOUDSDK_AUTH_CREDENTIAL_FILE_OVERRIDE\"}], '\n",
      "                                        '\"command\": [\"python3\", \"-c\", \"from '\n",
      "                                        'typing import NamedTuple\\\\n\\\\ndef '\n",
      "                                        'automl_create_dataset(\\\\n    '\n",
      "                                        'project_id: str,\\\\n    dataset_id: '\n",
      "                                        'str,\\\\n    table_id: str) -> '\n",
      "                                        \"NamedTuple('DatasetInfo', \"\n",
      "                                        '\\\\n                               '\n",
      "                                        \"[('name', str), \"\n",
      "                                        '\\\\n                                '\n",
      "                                        \"('total_rows', \"\n",
      "                                        'int),\\\\n                                '\n",
      "                                        \"('total_columns', int)]):\\\\n    \"\n",
      "                                        '\\\\n    \\\\n    print(\\\\\"Project '\n",
      "                                        'ID:\\\\\", project_id)\\\\n    '\n",
      "                                        'print(\\\\\"Dataset ID:\\\\\", '\n",
      "                                        'dataset_id)\\\\n    print(\\\\\"Table '\n",
      "                                        'ID:\\\\\", table_id)\\\\n    \\\\n    from '\n",
      "                                        'collections import namedtuple\\\\n    '\n",
      "                                        \"result = namedtuple('DatasetInfo', \"\n",
      "                                        \"['name', 'total_rows', \"\n",
      "                                        \"'total_colums'])\\\\n    return \"\n",
      "                                        \"result('test', 1000, 10)\\\\n\\\\nimport \"\n",
      "                                        \"sys\\\\n_args = {\\\\n    'project_id': \"\n",
      "                                        \"str(sys.argv[1]),\\\\n    'dataset_id': \"\n",
      "                                        \"str(sys.argv[2]),\\\\n    'table_id': \"\n",
      "                                        'str(sys.argv[3]),\\\\n}\\\\n_output_files '\n",
      "                                        '= [\\\\n    sys.argv[4],\\\\n    '\n",
      "                                        'sys.argv[5],\\\\n    '\n",
      "                                        'sys.argv[6],\\\\n]\\\\n\\\\n_outputs = '\n",
      "                                        'automl_create_dataset(**_args)\\\\n\\\\nif '\n",
      "                                        \"not hasattr(_outputs, '__getitem__') \"\n",
      "                                        'or isinstance(_outputs, str):\\\\n    '\n",
      "                                        '_outputs = [_outputs]\\\\n\\\\nfrom '\n",
      "                                        'pathlib import Path\\\\nfor idx, '\n",
      "                                        'filename in '\n",
      "                                        'enumerate(_output_files):\\\\n    '\n",
      "                                        '_output_path = Path(filename)\\\\n    '\n",
      "                                        '_output_path.parent.mkdir(parents=True, '\n",
      "                                        'exist_ok=True)\\\\n    '\n",
      "                                        '_output_path.write_text(str(_outputs[idx]))\\\\n\"], '\n",
      "                                        '\"volumeMounts\": [{\"mountPath\": '\n",
      "                                        '\"/secret/gcp-credentials\", \"name\": '\n",
      "                                        '\"gcp-credentials\"}], \"image\": '\n",
      "                                        '\"gcr.io/sandbox-235500/automltablesbase:dev\"}, '\n",
      "                                        '\"outputs\": {\"artifacts\": [{\"path\": '\n",
      "                                        '\"/mlpipeline-ui-metadata.json\", \"s3\": '\n",
      "                                        '{\"key\": '\n",
      "                                        '\"runs/{{workflow.uid}}/{{pod.name}}/mlpipeline-ui-metadata.tgz\", '\n",
      "                                        '\"secretKeySecret\": {\"key\": '\n",
      "                                        '\"secretkey\", \"name\": '\n",
      "                                        '\"mlpipeline-minio-artifact\"}, '\n",
      "                                        '\"endpoint\": '\n",
      "                                        '\"minio-service.kubeflow:9000\", '\n",
      "                                        '\"bucket\": \"mlpipeline\", \"insecure\": '\n",
      "                                        'true, \"accessKeySecret\": {\"key\": '\n",
      "                                        '\"accesskey\", \"name\": '\n",
      "                                        '\"mlpipeline-minio-artifact\"}}, '\n",
      "                                        '\"name\": \"mlpipeline-ui-metadata\"}, '\n",
      "                                        '{\"path\": \"/mlpipeline-metrics.json\", '\n",
      "                                        '\"s3\": {\"key\": '\n",
      "                                        '\"runs/{{workflow.uid}}/{{pod.name}}/mlpipeline-metrics.tgz\", '\n",
      "                                        '\"secretKeySecret\": {\"key\": '\n",
      "                                        '\"secretkey\", \"name\": '\n",
      "                                        '\"mlpipeline-minio-artifact\"}, '\n",
      "                                        '\"endpoint\": '\n",
      "                                        '\"minio-service.kubeflow:9000\", '\n",
      "                                        '\"bucket\": \"mlpipeline\", \"insecure\": '\n",
      "                                        'true, \"accessKeySecret\": {\"key\": '\n",
      "                                        '\"accesskey\", \"name\": '\n",
      "                                        '\"mlpipeline-minio-artifact\"}}, '\n",
      "                                        '\"name\": \"mlpipeline-metrics\"}], '\n",
      "                                        '\"parameters\": [{\"name\": '\n",
      "                                        '\"automl-create-dataset-name\", '\n",
      "                                        '\"valueFrom\": {\"path\": '\n",
      "                                        '\"/outputs/name/data\"}}, {\"name\": '\n",
      "                                        '\"automl-create-dataset-total-columns\", '\n",
      "                                        '\"valueFrom\": {\"path\": '\n",
      "                                        '\"/outputs/total_columns/data\"}}, '\n",
      "                                        '{\"name\": '\n",
      "                                        '\"automl-create-dataset-total-rows\", '\n",
      "                                        '\"valueFrom\": {\"path\": '\n",
      "                                        '\"/outputs/total_rows/data\"}}]}, '\n",
      "                                        '\"name\": \"automl-create-dataset\"}, '\n",
      "                                        '{\"inputs\": {\"parameters\": [{\"name\": '\n",
      "                                        '\"dataset-id\"}, {\"name\": '\n",
      "                                        '\"project-id\"}, {\"name\": \"query\"}, '\n",
      "                                        '{\"name\": \"table-id\"}]}, \"container\": '\n",
      "                                        '{\"args\": '\n",
      "                                        '[\"kfp_component.google.bigquery\", '\n",
      "                                        '\"query\", \"--query\", '\n",
      "                                        '\"{{inputs.parameters.query}}\", '\n",
      "                                        '\"--project_id\", '\n",
      "                                        '\"{{inputs.parameters.project-id}}\", '\n",
      "                                        '\"--dataset_id\", '\n",
      "                                        '\"{{inputs.parameters.dataset-id}}\", '\n",
      "                                        '\"--table_id\", '\n",
      "                                        '\"{{inputs.parameters.table-id}}\", '\n",
      "                                        '\"--output_gcs_path\", \"\", '\n",
      "                                        '\"--job_config\", \"\"], \"env\": '\n",
      "                                        '[{\"value\": \"{{pod.name}}\", \"name\": '\n",
      "                                        '\"KFP_POD_NAME\"}, {\"value\": '\n",
      "                                        '\"/secret/gcp-credentials/user-gcp-sa.json\", '\n",
      "                                        '\"name\": '\n",
      "                                        '\"GOOGLE_APPLICATION_CREDENTIALS\"}, '\n",
      "                                        '{\"value\": '\n",
      "                                        '\"/secret/gcp-credentials/user-gcp-sa.json\", '\n",
      "                                        '\"name\": '\n",
      "                                        '\"CLOUDSDK_AUTH_CREDENTIAL_FILE_OVERRIDE\"}], '\n",
      "                                        '\"command\": [], \"volumeMounts\": '\n",
      "                                        '[{\"mountPath\": '\n",
      "                                        '\"/secret/gcp-credentials\", \"name\": '\n",
      "                                        '\"gcp-credentials\"}], \"image\": '\n",
      "                                        '\"gcr.io/ml-pipeline/ml-pipeline-gcp:b0147bdbed9f25212408e0468a475289e80e0406\"}, '\n",
      "                                        '\"outputs\": {\"artifacts\": [{\"path\": '\n",
      "                                        '\"/mlpipeline-ui-metadata.json\", \"s3\": '\n",
      "                                        '{\"key\": '\n",
      "                                        '\"runs/{{workflow.uid}}/{{pod.name}}/mlpipeline-ui-metadata.tgz\", '\n",
      "                                        '\"secretKeySecret\": {\"key\": '\n",
      "                                        '\"secretkey\", \"name\": '\n",
      "                                        '\"mlpipeline-minio-artifact\"}, '\n",
      "                                        '\"endpoint\": '\n",
      "                                        '\"minio-service.kubeflow:9000\", '\n",
      "                                        '\"bucket\": \"mlpipeline\", \"insecure\": '\n",
      "                                        'true, \"accessKeySecret\": {\"key\": '\n",
      "                                        '\"accesskey\", \"name\": '\n",
      "                                        '\"mlpipeline-minio-artifact\"}}, '\n",
      "                                        '\"name\": \"mlpipeline-ui-metadata\"}, '\n",
      "                                        '{\"path\": \"/mlpipeline-metrics.json\", '\n",
      "                                        '\"s3\": {\"key\": '\n",
      "                                        '\"runs/{{workflow.uid}}/{{pod.name}}/mlpipeline-metrics.tgz\", '\n",
      "                                        '\"secretKeySecret\": {\"key\": '\n",
      "                                        '\"secretkey\", \"name\": '\n",
      "                                        '\"mlpipeline-minio-artifact\"}, '\n",
      "                                        '\"endpoint\": '\n",
      "                                        '\"minio-service.kubeflow:9000\", '\n",
      "                                        '\"bucket\": \"mlpipeline\", \"insecure\": '\n",
      "                                        'true, \"accessKeySecret\": {\"key\": '\n",
      "                                        '\"accesskey\", \"name\": '\n",
      "                                        '\"mlpipeline-minio-artifact\"}}, '\n",
      "                                        '\"name\": \"mlpipeline-metrics\"}], '\n",
      "                                        '\"parameters\": [{\"name\": '\n",
      "                                        '\"bigquery-query-output-gcs-path\", '\n",
      "                                        '\"valueFrom\": {\"path\": '\n",
      "                                        '\"/tmp/kfp/output/bigquery/query-output-path.txt\"}}]}, '\n",
      "                                        '\"name\": \"bigquery-query\"}, {\"inputs\": '\n",
      "                                        '{\"parameters\": [{\"name\": '\n",
      "                                        '\"dataset-id\"}, {\"name\": '\n",
      "                                        '\"project-id\"}, {\"name\": \"query\"}, '\n",
      "                                        '{\"name\": \"table-id\"}]}, \"dag\": '\n",
      "                                        '{\"tasks\": [{\"dependencies\": '\n",
      "                                        '[\"bigquery-query\"], \"arguments\": '\n",
      "                                        '{\"parameters\": [{\"value\": '\n",
      "                                        '\"{{inputs.parameters.dataset-id}}\", '\n",
      "                                        '\"name\": \"dataset-id\"}, {\"value\": '\n",
      "                                        '\"{{inputs.parameters.project-id}}\", '\n",
      "                                        '\"name\": \"project-id\"}, {\"value\": '\n",
      "                                        '\"{{inputs.parameters.table-id}}\", '\n",
      "                                        '\"name\": \"table-id\"}]}, \"template\": '\n",
      "                                        '\"automl-create-dataset\", \"name\": '\n",
      "                                        '\"automl-create-dataset\"}, '\n",
      "                                        '{\"template\": \"bigquery-query\", '\n",
      "                                        '\"arguments\": {\"parameters\": '\n",
      "                                        '[{\"value\": '\n",
      "                                        '\"{{inputs.parameters.dataset-id}}\", '\n",
      "                                        '\"name\": \"dataset-id\"}, {\"value\": '\n",
      "                                        '\"{{inputs.parameters.project-id}}\", '\n",
      "                                        '\"name\": \"project-id\"}, {\"value\": '\n",
      "                                        '\"{{inputs.parameters.query}}\", '\n",
      "                                        '\"name\": \"query\"}, {\"value\": '\n",
      "                                        '\"{{inputs.parameters.table-id}}\", '\n",
      "                                        '\"name\": \"table-id\"}]}, \"name\": '\n",
      "                                        '\"bigquery-query\"}]}, \"name\": '\n",
      "                                        '\"clvpipeline\"}], \"entrypoint\": '\n",
      "                                        '\"clvpipeline\", \"serviceAccountName\": '\n",
      "                                        '\"pipeline-runner\", \"volumes\": '\n",
      "                                        '[{\"secret\": {\"secretName\": '\n",
      "                                        '\"user-gcp-sa\"}, \"name\": '\n",
      "                                        '\"gcp-credentials\"}], \"arguments\": '\n",
      "                                        '{\"parameters\": [{\"value\": \"SELECT * '\n",
      "                                        'FROM '\n",
      "                                        '`bigquery-public-data.stackoverflow.posts_questions` '\n",
      "                                        'LIMIT 10\", \"name\": \"query\"}, '\n",
      "                                        '{\"value\": \"sandbox-235500\", \"name\": '\n",
      "                                        '\"project-id\"}, {\"value\": \"\", \"name\": '\n",
      "                                        '\"dataset-id\"}, {\"value\": \"\", \"name\": '\n",
      "                                        '\"table-id\"}, {\"value\": \"US\", \"name\": '\n",
      "                                        '\"dataset-location\"}, {\"value\": \"\", '\n",
      "                                        '\"name\": \"job-config\"}]}}, \"metadata\": '\n",
      "                                        '{\"generateName\": \"clvpipeline-\"}, '\n",
      "                                        '\"kind\": \"Workflow\"}'},\n",
      " 'resource_references': [{'key': {'id': '6d0a5a1b-a373-4935-a544-b7ac09d5bd4a',\n",
      "                                  'type': 'EXPERIMENT'},\n",
      "                          'relationship': 'OWNER'}],\n",
      " 'scheduled_at': datetime.datetime(1970, 1, 1, 0, 0, tzinfo=tzlocal()),\n",
      " 'status': None,\n",
      " 'storage_state': None}\n"
     ]
    }
   ],
   "source": [
    "#Specify pipeline argument values\n",
    "arguments = {}\n",
    "\n",
    "\n",
    "HOST = 'http://localhost:8082/api/v1/namespaces/kubeflow/services/ml-pipeline:8888/proxy'\n",
    "EXPERIMENT_NAME = 'CLV Pipeline Runs'\n",
    "\n",
    "client = kfp.Client(HOST)\n",
    "experiment = client.create_experiment(EXPERIMENT_NAME)\n",
    "\n",
    "#Submit a pipeline run\n",
    "run_name = pipeline_func.__name__ + ' run'\n",
    "run_result = client.run_pipeline(experiment.id, run_name, pipeline_filename, arguments)\n",
    "print(run_result)"
   ]
  },
  {
   "cell_type": "code",
   "execution_count": 28,
   "metadata": {},
   "outputs": [
    {
     "data": {
      "text/plain": [
       "'gcr.io/sandbox-235500/automltablesbase:dev'"
      ]
     },
     "execution_count": 28,
     "metadata": {},
     "output_type": "execute_result"
    }
   ],
   "source": [
    "EF_IMAGE"
   ]
  },
  {
   "cell_type": "code",
   "execution_count": null,
   "metadata": {},
   "outputs": [],
   "source": []
  }
 ],
 "metadata": {
  "kernelspec": {
   "display_name": "KFP",
   "language": "python",
   "name": "kfp"
  },
  "language_info": {
   "codemirror_mode": {
    "name": "ipython",
    "version": 3
   },
   "file_extension": ".py",
   "mimetype": "text/x-python",
   "name": "python",
   "nbconvert_exporter": "python",
   "pygments_lexer": "ipython3",
   "version": "3.5.3"
  }
 },
 "nbformat": 4,
 "nbformat_minor": 2
}
