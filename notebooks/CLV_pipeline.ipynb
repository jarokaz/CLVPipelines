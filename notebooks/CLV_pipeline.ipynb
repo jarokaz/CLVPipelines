{
 "cells": [
  {
   "cell_type": "markdown",
   "metadata": {},
   "source": [
    "# Orchestrate BigQuery and AutoML tables with Kubeflow pipelines"
   ]
  },
  {
   "cell_type": "code",
   "execution_count": 6,
   "metadata": {},
   "outputs": [],
   "source": [
    "import kfp\n",
    "import kfp.dsl as dsl\n",
    "import kfp.gcp as gcp\n",
    "import kfp.notebook\n",
    "\n",
    "from typing import NamedTuple"
   ]
  },
  {
   "cell_type": "markdown",
   "metadata": {},
   "source": [
    "Jupyter docker magic is used to start a Kaniko job. The magic uses a default Kubernetes config."
   ]
  },
  {
   "cell_type": "markdown",
   "metadata": {},
   "source": [
    "## Create and run a pipeline"
   ]
  },
  {
   "cell_type": "markdown",
   "metadata": {},
   "source": [
    "### Define a pipeline"
   ]
  },
  {
   "cell_type": "code",
   "execution_count": 9,
   "metadata": {},
   "outputs": [],
   "source": [
    "from google.cloud import bigquery\n",
    "import json\n",
    "\n",
    "FEATURES_TABLE_ID = 'clv_features'\n",
    "AUTOML_DATASET_NAME = 'CLVFeatures'\n",
    "\n",
    "#data_preprocessing_op = kfp.components.load_component_from_url(\n",
    "#        'https://raw.githubusercontent.com/jarokaz/CLVPipelines/master/components/prep_data/component.yaml')\n",
    "\n",
    "data_preprocessing_op = kfp.components.load_component_from_file(\n",
    "        '../components/prep_data/component.yaml')\n",
    "\n",
    "\n",
    "@dsl.pipeline(\n",
    "    name='CLVTrainingPipeline',\n",
    "    description='CLV Training Pipeline'\n",
    ")\n",
    "def clv_pipeline(\n",
    "    project_id='', \n",
    "    dataset_id='', \n",
    "    transactions_table_fqn='',\n",
    "    summaries_table_name='',\n",
    "    features_table_name='',\n",
    "    threshold_date='',\n",
    "    predict_end='',\n",
    "    max_monetary=15000,\n",
    "    automl_dataset_location='us-central1'\n",
    "):\n",
    "\n",
    "\n",
    "    data_preprocessing_task = data_preprocessing_op(\n",
    "        project_id=project_id,\n",
    "        dataset_id=dataset_id,\n",
    "        transactions_table_fqn=transactions_table_fqn,\n",
    "        summaries_table_name=summaries_table_name,\n",
    "        features_table_name=features_table_name,\n",
    "        threshold_date=threshold_date,\n",
    "        predict_end=predict_end,\n",
    "        max_monetary=max_monetary\n",
    "        )\n",
    "  \n",
    "\n",
    "    \n"
   ]
  },
  {
   "cell_type": "markdown",
   "metadata": {},
   "source": [
    "### Compile a pipeline"
   ]
  },
  {
   "cell_type": "code",
   "execution_count": 10,
   "metadata": {},
   "outputs": [],
   "source": [
    "pipeline_func = clv_pipeline\n",
    "pipeline_filename = pipeline_func.__name__ + '.tar.gz'\n",
    "\n",
    "kfp.compiler.Compiler().compile(pipeline_func, pipeline_filename)"
   ]
  },
  {
   "cell_type": "markdown",
   "metadata": {},
   "source": [
    "### Submit the pipeline for execution"
   ]
  },
  {
   "cell_type": "code",
   "execution_count": null,
   "metadata": {},
   "outputs": [],
   "source": []
  },
  {
   "cell_type": "code",
   "execution_count": 11,
   "metadata": {},
   "outputs": [
    {
     "data": {
      "text/html": [
       "Experiment link <a href=\"http://localhost:8082/api/v1/namespaces/kubeflow/services/ml-pipeline:8888/proxy/#/experiments/details/467df5ba-949c-4781-8478-48fb3ae77859\" target=\"_blank\" >here</a>"
      ],
      "text/plain": [
       "<IPython.core.display.HTML object>"
      ]
     },
     "metadata": {},
     "output_type": "display_data"
    },
    {
     "data": {
      "text/html": [
       "Run link <a href=\"http://localhost:8082/api/v1/namespaces/kubeflow/services/ml-pipeline:8888/proxy/#/runs/details/c350f5fd-72e2-11e9-bf64-42010a800073\" target=\"_blank\" >here</a>"
      ],
      "text/plain": [
       "<IPython.core.display.HTML object>"
      ]
     },
     "metadata": {},
     "output_type": "display_data"
    },
    {
     "name": "stdout",
     "output_type": "stream",
     "text": [
      "{'created_at': datetime.datetime(2019, 5, 10, 5, 16, 27, tzinfo=tzlocal()),\n",
      " 'description': None,\n",
      " 'error': None,\n",
      " 'finished_at': None,\n",
      " 'id': 'c350f5fd-72e2-11e9-bf64-42010a800073',\n",
      " 'metrics': None,\n",
      " 'name': 'clv_pipeline run',\n",
      " 'pipeline_spec': {'parameters': [{'name': 'threshold-date',\n",
      "                                   'value': '2011-08-08'},\n",
      "                                  {'name': 'max-monetary', 'value': '15000'},\n",
      "                                  {'name': 'transactions-table-fqn',\n",
      "                                   'value': 'sandbox-235500.CLVDataset.transactions'},\n",
      "                                  {'name': 'summaries-table-name',\n",
      "                                   'value': 'summaries'},\n",
      "                                  {'name': 'features-table-name',\n",
      "                                   'value': 'features'},\n",
      "                                  {'name': 'project-id',\n",
      "                                   'value': 'sandbox-235500'},\n",
      "                                  {'name': 'dataset-id', 'value': 'CLVDataset'},\n",
      "                                  {'name': 'predict-end',\n",
      "                                   'value': '2011-12-12'}],\n",
      "                   'pipeline_id': None,\n",
      "                   'pipeline_manifest': None,\n",
      "                   'workflow_manifest': '{\"kind\": \"Workflow\", \"apiVersion\": '\n",
      "                                        '\"argoproj.io/v1alpha1\", \"spec\": '\n",
      "                                        '{\"entrypoint\": \"clvtrainingpipeline\", '\n",
      "                                        '\"templates\": [{\"outputs\": '\n",
      "                                        '{\"artifacts\": [{\"s3\": '\n",
      "                                        '{\"secretKeySecret\": {\"name\": '\n",
      "                                        '\"mlpipeline-minio-artifact\", \"key\": '\n",
      "                                        '\"secretkey\"}, \"endpoint\": '\n",
      "                                        '\"minio-service.kubeflow:9000\", '\n",
      "                                        '\"bucket\": \"mlpipeline\", \"insecure\": '\n",
      "                                        'true, \"key\": '\n",
      "                                        '\"runs/{{workflow.uid}}/{{pod.name}}/mlpipeline-ui-metadata.tgz\", '\n",
      "                                        '\"accessKeySecret\": {\"name\": '\n",
      "                                        '\"mlpipeline-minio-artifact\", \"key\": '\n",
      "                                        '\"accesskey\"}}, \"name\": '\n",
      "                                        '\"mlpipeline-ui-metadata\", \"optional\": '\n",
      "                                        'true, \"path\": '\n",
      "                                        '\"/mlpipeline-ui-metadata.json\"}, '\n",
      "                                        '{\"s3\": {\"secretKeySecret\": {\"name\": '\n",
      "                                        '\"mlpipeline-minio-artifact\", \"key\": '\n",
      "                                        '\"secretkey\"}, \"endpoint\": '\n",
      "                                        '\"minio-service.kubeflow:9000\", '\n",
      "                                        '\"bucket\": \"mlpipeline\", \"insecure\": '\n",
      "                                        'true, \"key\": '\n",
      "                                        '\"runs/{{workflow.uid}}/{{pod.name}}/mlpipeline-metrics.tgz\", '\n",
      "                                        '\"accessKeySecret\": {\"name\": '\n",
      "                                        '\"mlpipeline-minio-artifact\", \"key\": '\n",
      "                                        '\"accesskey\"}}, \"name\": '\n",
      "                                        '\"mlpipeline-metrics\", \"optional\": '\n",
      "                                        'true, \"path\": '\n",
      "                                        '\"/mlpipeline-metrics.json\"}], '\n",
      "                                        '\"parameters\": [{\"name\": '\n",
      "                                        '\"clv-data-preprocessing-output-features-table-fqn\", '\n",
      "                                        '\"valueFrom\": {\"path\": '\n",
      "                                        '\"/outputs/output_features_table_fqn/data\"}}, '\n",
      "                                        '{\"name\": '\n",
      "                                        '\"clv-data-preprocessing-output-summaries-table-fqn\", '\n",
      "                                        '\"valueFrom\": {\"path\": '\n",
      "                                        '\"/outputs/output_summaries_table_fqn/data\"}}]}, '\n",
      "                                        '\"name\": \"clv-data-preprocessing\", '\n",
      "                                        '\"container\": {\"image\": '\n",
      "                                        '\"gcr.io/sandbox-235500/clv-components:latest\", '\n",
      "                                        '\"command\": [\"python\", \"prep.py\"], '\n",
      "                                        '\"args\": [\"--project-id\", '\n",
      "                                        '\"{{inputs.parameters.project-id}}\", '\n",
      "                                        '\"--dataset-id\", '\n",
      "                                        '\"{{inputs.parameters.dataset-id}}\", '\n",
      "                                        '\"--transactions-table-fqn\", '\n",
      "                                        '\"{{inputs.parameters.transactions-table-fqn}}\", '\n",
      "                                        '\"--features-table-name\", '\n",
      "                                        '\"{{inputs.parameters.features-table-name}}\", '\n",
      "                                        '\"--summaries-table-name\", '\n",
      "                                        '\"{{inputs.parameters.summaries-table-name}}\", '\n",
      "                                        '\"--threshold-date\", '\n",
      "                                        '\"{{inputs.parameters.threshold-date}}\", '\n",
      "                                        '\"--predict-end\", '\n",
      "                                        '\"{{inputs.parameters.predict-end}}\", '\n",
      "                                        '\"--max-monetary\", '\n",
      "                                        '\"{{inputs.parameters.max-monetary}}\", '\n",
      "                                        '\"--output-features-table-fqn\", '\n",
      "                                        '\"/outputs/output_features_table_fqn/data\", '\n",
      "                                        '\"--output-summaries-table-fqn\", '\n",
      "                                        '\"/outputs/output_summaries_table_fqn/data\"]}, '\n",
      "                                        '\"inputs\": {\"parameters\": [{\"name\": '\n",
      "                                        '\"dataset-id\"}, {\"name\": '\n",
      "                                        '\"features-table-name\"}, {\"name\": '\n",
      "                                        '\"max-monetary\"}, {\"name\": '\n",
      "                                        '\"predict-end\"}, {\"name\": '\n",
      "                                        '\"project-id\"}, {\"name\": '\n",
      "                                        '\"summaries-table-name\"}, {\"name\": '\n",
      "                                        '\"threshold-date\"}, {\"name\": '\n",
      "                                        '\"transactions-table-fqn\"}]}}, {\"dag\": '\n",
      "                                        '{\"tasks\": [{\"name\": '\n",
      "                                        '\"clv-data-preprocessing\", '\n",
      "                                        '\"arguments\": {\"parameters\": '\n",
      "                                        '[{\"value\": '\n",
      "                                        '\"{{inputs.parameters.dataset-id}}\", '\n",
      "                                        '\"name\": \"dataset-id\"}, {\"value\": '\n",
      "                                        '\"{{inputs.parameters.features-table-name}}\", '\n",
      "                                        '\"name\": \"features-table-name\"}, '\n",
      "                                        '{\"value\": '\n",
      "                                        '\"{{inputs.parameters.max-monetary}}\", '\n",
      "                                        '\"name\": \"max-monetary\"}, {\"value\": '\n",
      "                                        '\"{{inputs.parameters.predict-end}}\", '\n",
      "                                        '\"name\": \"predict-end\"}, {\"value\": '\n",
      "                                        '\"{{inputs.parameters.project-id}}\", '\n",
      "                                        '\"name\": \"project-id\"}, {\"value\": '\n",
      "                                        '\"{{inputs.parameters.summaries-table-name}}\", '\n",
      "                                        '\"name\": \"summaries-table-name\"}, '\n",
      "                                        '{\"value\": '\n",
      "                                        '\"{{inputs.parameters.threshold-date}}\", '\n",
      "                                        '\"name\": \"threshold-date\"}, {\"value\": '\n",
      "                                        '\"{{inputs.parameters.transactions-table-fqn}}\", '\n",
      "                                        '\"name\": \"transactions-table-fqn\"}]}, '\n",
      "                                        '\"template\": '\n",
      "                                        '\"clv-data-preprocessing\"}]}, \"name\": '\n",
      "                                        '\"clvtrainingpipeline\", \"inputs\": '\n",
      "                                        '{\"parameters\": [{\"name\": '\n",
      "                                        '\"dataset-id\"}, {\"name\": '\n",
      "                                        '\"features-table-name\"}, {\"name\": '\n",
      "                                        '\"max-monetary\"}, {\"name\": '\n",
      "                                        '\"predict-end\"}, {\"name\": '\n",
      "                                        '\"project-id\"}, {\"name\": '\n",
      "                                        '\"summaries-table-name\"}, {\"name\": '\n",
      "                                        '\"threshold-date\"}, {\"name\": '\n",
      "                                        '\"transactions-table-fqn\"}]}}], '\n",
      "                                        '\"serviceAccountName\": '\n",
      "                                        '\"pipeline-runner\", \"arguments\": '\n",
      "                                        '{\"parameters\": [{\"value\": \"\", \"name\": '\n",
      "                                        '\"project-id\"}, {\"value\": \"\", \"name\": '\n",
      "                                        '\"dataset-id\"}, {\"value\": \"\", \"name\": '\n",
      "                                        '\"transactions-table-fqn\"}, {\"value\": '\n",
      "                                        '\"\", \"name\": \"summaries-table-name\"}, '\n",
      "                                        '{\"value\": \"\", \"name\": '\n",
      "                                        '\"features-table-name\"}, {\"value\": \"\", '\n",
      "                                        '\"name\": \"threshold-date\"}, {\"value\": '\n",
      "                                        '\"\", \"name\": \"predict-end\"}, {\"value\": '\n",
      "                                        '\"15000\", \"name\": \"max-monetary\"}, '\n",
      "                                        '{\"value\": \"us-central1\", \"name\": '\n",
      "                                        '\"automl-dataset-location\"}]}}, '\n",
      "                                        '\"metadata\": {\"generateName\": '\n",
      "                                        '\"clvtrainingpipeline-\"}}'},\n",
      " 'resource_references': [{'key': {'id': '467df5ba-949c-4781-8478-48fb3ae77859',\n",
      "                                  'type': 'EXPERIMENT'},\n",
      "                          'relationship': 'OWNER'}],\n",
      " 'scheduled_at': datetime.datetime(1970, 1, 1, 0, 0, tzinfo=tzlocal()),\n",
      " 'status': None,\n",
      " 'storage_state': None}\n"
     ]
    }
   ],
   "source": [
    "#Specify pipeline argument values\n",
    "arguments = {\n",
    "    'project_id': 'sandbox-235500',\n",
    "    'dataset_id': 'CLVDataset',\n",
    "    'transactions_table_fqn': 'sandbox-235500.CLVDataset.transactions',\n",
    "    'summaries_table_name': 'summaries',\n",
    "    'features_table_name': 'features',\n",
    "    'threshold_date': '2011-08-08',\n",
    "    'predict_end': '2011-12-12',\n",
    "    'max_monetary': '15000'\n",
    "}\n",
    "\n",
    "\n",
    "HOST = 'http://localhost:8082/api/v1/namespaces/kubeflow/services/ml-pipeline:8888/proxy'\n",
    "EXPERIMENT_NAME = 'CLV_TRAINING'\n",
    "\n",
    "client = kfp.Client(HOST)\n",
    "experiment = client.create_experiment(EXPERIMENT_NAME)\n",
    "\n",
    "#Submit a pipeline run\n",
    "run_name = pipeline_func.__name__ + ' run'\n",
    "run_result = client.run_pipeline(experiment.id, run_name, pipeline_filename, arguments)\n",
    "print(run_result)"
   ]
  },
  {
   "cell_type": "code",
   "execution_count": null,
   "metadata": {},
   "outputs": [],
   "source": []
  }
 ],
 "metadata": {
  "kernelspec": {
   "display_name": "kfp",
   "language": "python",
   "name": "kfp"
  },
  "language_info": {
   "codemirror_mode": {
    "name": "ipython",
    "version": 3
   },
   "file_extension": ".py",
   "mimetype": "text/x-python",
   "name": "python",
   "nbconvert_exporter": "python",
   "pygments_lexer": "ipython3",
   "version": "3.5.3"
  }
 },
 "nbformat": 4,
 "nbformat_minor": 2
}
